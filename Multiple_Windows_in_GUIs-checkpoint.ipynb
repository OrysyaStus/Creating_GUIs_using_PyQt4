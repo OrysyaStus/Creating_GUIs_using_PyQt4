{
 "cells": [
  {
   "cell_type": "code",
   "execution_count": 1,
   "metadata": {
    "collapsed": false
   },
   "outputs": [],
   "source": [
    "# For multiple windows\n",
    "# You may use a QStackedWidget as central widget and add both the log-in screen and \"logged-in\" screen to it.\n",
    "from PyQt4 import QtCore, QtGui\n",
    "\n",
    "\n",
    "class MainWindow(QtGui.QMainWindow):\n",
    "    def __init__(self, parent=None):\n",
    "        super(MainWindow, self).__init__(parent)\n",
    "        self.central_widget = QtGui.QStackedWidget()\n",
    "        self.setCentralWidget(self.central_widget)\n",
    "        login_widget = LoginWidget(self)\n",
    "        login_widget.button.clicked.connect(self.login)\n",
    "        self.central_widget.addWidget(login_widget)\n",
    "    def login(self):\n",
    "        logged_in_widget = LoggedWidget(self)\n",
    "        self.central_widget.addWidget(logged_in_widget)\n",
    "        self.central_widget.setCurrentWidget(logged_in_widget)\n",
    "\n",
    "\n",
    "class LoginWidget(QtGui.QWidget):\n",
    "    def __init__(self, parent=None):\n",
    "        super(LoginWidget, self).__init__(parent)\n",
    "        layout = QtGui.QHBoxLayout()\n",
    "        self.button = QtGui.QPushButton('Login')\n",
    "        layout.addWidget(self.button)\n",
    "        self.setLayout(layout)\n",
    "        # you might want to do self.button.click.connect(self.parent().login) here\n",
    "\n",
    "\n",
    "class LoggedWidget(QtGui.QWidget):\n",
    "    def __init__(self, parent=None):\n",
    "        super(LoggedWidget, self).__init__(parent)\n",
    "        layout = QtGui.QHBoxLayout()\n",
    "        self.label = QtGui.QLabel('logged in!')\n",
    "        layout.addWidget(self.label)\n",
    "        self.setLayout(layout)\n",
    "\n",
    "\n",
    "\n",
    "if __name__ == '__main__':\n",
    "    app = QtGui.QApplication([])\n",
    "    window = MainWindow()\n",
    "    window.show()\n",
    "    app.exec_()"
   ]
  },
  {
   "cell_type": "code",
   "execution_count": 1,
   "metadata": {
    "collapsed": false
   },
   "outputs": [
    {
     "ename": "TypeError",
     "evalue": "__init__() takes exactly 2 arguments (1 given)",
     "output_type": "error",
     "traceback": [
      "\u001b[1;31m---------------------------------------------------------------------------\u001b[0m",
      "\u001b[1;31mTypeError\u001b[0m                                 Traceback (most recent call last)",
      "\u001b[1;32m<ipython-input-1-d76f9075f4dc>\u001b[0m in \u001b[0;36m<module>\u001b[1;34m()\u001b[0m\n\u001b[0;32m     33\u001b[0m     \u001b[0mjupiter\u001b[0m \u001b[1;33m=\u001b[0m \u001b[0mPlanetApp\u001b[0m\u001b[1;33m(\u001b[0m\u001b[0mNone\u001b[0m\u001b[1;33m,\u001b[0m \u001b[1;34m\"jupiter\"\u001b[0m\u001b[1;33m)\u001b[0m\u001b[1;33m\u001b[0m\u001b[0m\n\u001b[0;32m     34\u001b[0m     \u001b[0mvenus\u001b[0m \u001b[1;33m=\u001b[0m \u001b[0mPlanetApp\u001b[0m\u001b[1;33m(\u001b[0m\u001b[0mNone\u001b[0m\u001b[1;33m,\u001b[0m \u001b[1;34m\"venus\"\u001b[0m\u001b[1;33m)\u001b[0m\u001b[1;33m\u001b[0m\u001b[0m\n\u001b[1;32m---> 35\u001b[1;33m     \u001b[0mwindows\u001b[0m \u001b[1;33m=\u001b[0m \u001b[0mMultiWindows\u001b[0m\u001b[1;33m(\u001b[0m\u001b[1;33m)\u001b[0m\u001b[1;33m\u001b[0m\u001b[0m\n\u001b[0m\u001b[0;32m     36\u001b[0m     \u001b[0mwindows\u001b[0m\u001b[1;33m.\u001b[0m\u001b[0maddWindow\u001b[0m\u001b[1;33m(\u001b[0m\u001b[0mjupiter\u001b[0m\u001b[1;33m)\u001b[0m\u001b[1;33m\u001b[0m\u001b[0m\n\u001b[0;32m     37\u001b[0m     \u001b[0mwindows\u001b[0m\u001b[1;33m.\u001b[0m\u001b[0maddWindow\u001b[0m\u001b[1;33m(\u001b[0m\u001b[0mvenus\u001b[0m\u001b[1;33m)\u001b[0m\u001b[1;33m\u001b[0m\u001b[0m\n",
      "\u001b[1;31mTypeError\u001b[0m: __init__() takes exactly 2 arguments (1 given)"
     ]
    }
   ],
   "source": [
    "#I get error here for __init__\n",
    "\n",
    "from PyQt4 import QtCore, QtGui\n",
    "\n",
    "class MultiWindows(QtGui.QMainWindow):\n",
    "\n",
    "    windowList = []\n",
    "\n",
    "    def __init__(self, param):\n",
    "        raise NotImplementedError()\n",
    "\n",
    "    def addwindow(self, param):\n",
    "        window = self.__class__(param)\n",
    "        windowList.append(window)\n",
    "    \n",
    "    def show():\n",
    "        for current_child_window in self.__windows:\n",
    "             current_child_window.exec_() # probably show will do the same trick\n",
    "\n",
    "class PlanetApp(QtGui.QDialog):\n",
    "    def __init__(self, parent, planet):\n",
    "       QtGui.QDialog.__init__(self, parent)\n",
    "       # do cool stuff here\n",
    "\n",
    "class AnimalApp(QtGui.QDialog):\n",
    "    def __init__(self, parent, animal):\n",
    "       QtGui.QDialog.__init__(self, parent)\n",
    "       # do cool stuff here\n",
    "\n",
    "if __name__==\"__main__\":\n",
    "    import sys # really need this here??\n",
    "\n",
    "    app = QtGui.QApplication(sys.argv)\n",
    "\n",
    "    jupiter = PlanetApp(None, \"jupiter\")\n",
    "    venus = PlanetApp(None, \"venus\")\n",
    "    windows = MultiWindows()\n",
    "    windows.addWindow(jupiter)\n",
    "    windows.addWindow(venus)\n",
    "\n",
    "    windows.show()\n",
    "    app.exec_()\n",
    "\n",
    "\n",
    "\n"
   ]
  },
  {
   "cell_type": "code",
   "execution_count": 2,
   "metadata": {
    "collapsed": false
   },
   "outputs": [
    {
     "data": {
      "text/plain": [
       "0"
      ]
     },
     "execution_count": 2,
     "metadata": {},
     "output_type": "execute_result"
    }
   ],
   "source": [
    "import sys\n",
    "from PyQt4 import QtGui\n",
    "class QTestWidget (QtGui.QWidget):\n",
    "    def __init__ (self):\n",
    "        super(QTestWidget, self).__init__()\n",
    "        self.myQMenuBar = QtGui.QMenuBar(self)\n",
    "        exitMenu = self.myQMenuBar.addMenu('File')\n",
    "        exitAction = QtGui.QAction('Exit', self)        \n",
    "        exitAction.triggered.connect(QtGui.qApp.quit)\n",
    "        exitMenu.addAction(exitAction)\n",
    "\n",
    "myQApplication = QtGui.QApplication(sys.argv)\n",
    "myQTestWidget = QTestWidget()\n",
    "myQTestWidget.show()\n",
    "myQApplication.exec_()"
   ]
  },
  {
   "cell_type": "code",
   "execution_count": 3,
   "metadata": {
    "collapsed": false
   },
   "outputs": [
    {
     "ename": "SystemExit",
     "evalue": "0",
     "output_type": "error",
     "traceback": [
      "An exception has occurred, use %tb to see the full traceback.\n",
      "\u001b[1;31mSystemExit\u001b[0m\u001b[1;31m:\u001b[0m 0\n"
     ]
    },
    {
     "name": "stderr",
     "output_type": "stream",
     "text": [
      "To exit: use 'exit', 'quit', or Ctrl-D.\n"
     ]
    }
   ],
   "source": [
    "#code allows for changing between multiple windows\n",
    "import sys\n",
    "from PyQt4 import QtGui, QtCore\n",
    "\n",
    "class Window(QtGui.QMainWindow):\n",
    "    def __init__(self):\n",
    "        QtGui.QMainWindow.__init__(self)\n",
    "\n",
    "        self.stacked_widget = QtGui.QStackedWidget()\n",
    "        self.button = QtGui.QPushButton(\"Next\")\n",
    "\n",
    "        self.button.clicked.connect(self.__next_page)\n",
    "\n",
    "        layout = QtGui.QVBoxLayout()\n",
    "        layout.addWidget(self.stacked_widget)\n",
    "        layout.addWidget(self.button)\n",
    "\n",
    "        widget = QtGui.QWidget()\n",
    "        widget.setLayout(layout)\n",
    "        self.setCentralWidget(widget)\n",
    "\n",
    "        self.stacked_widget.addWidget(QtGui.QLabel(\"Page 1\"))\n",
    "        self.stacked_widget.addWidget(QtGui.QLabel(\"Page 2\"))\n",
    "        self.stacked_widget.addWidget(QtGui.QLabel(\"Page 3\"))\n",
    "\n",
    "    def __next_page(self):\n",
    "        idx = self.stacked_widget.currentIndex()\n",
    "        if idx < self.stacked_widget.count() - 1:\n",
    "            self.stacked_widget.setCurrentIndex(idx + 1)\n",
    "        else:\n",
    "            self.stacked_widget.setCurrentIndex(0)\n",
    "\n",
    "if __name__ == '__main__':\n",
    "    app = QtGui.QApplication(sys.argv)\n",
    "    w = Window()\n",
    "    w.show()\n",
    "    sys.exit(app.exec_())\n",
    "\n"
   ]
  },
  {
   "cell_type": "code",
   "execution_count": 1,
   "metadata": {
    "collapsed": false
   },
   "outputs": [
    {
     "name": "stdout",
     "output_type": "stream",
     "text": [
      "doing something!\n",
      "doing something else!\n",
      "doing something else!\n",
      "doing something else!\n",
      "doing something!\n",
      "doing something!\n",
      "doing something!\n",
      "doing something else!\n",
      "doing something!\n",
      "doing something else!\n"
     ]
    },
    {
     "ename": "SystemExit",
     "evalue": "0",
     "output_type": "error",
     "traceback": [
      "An exception has occurred, use %tb to see the full traceback.\n",
      "\u001b[1;31mSystemExit\u001b[0m\u001b[1;31m:\u001b[0m 0\n"
     ]
    },
    {
     "name": "stderr",
     "output_type": "stream",
     "text": [
      "To exit: use 'exit', 'quit', or Ctrl-D.\n"
     ]
    }
   ],
   "source": [
    "import sys\n",
    "from PyQt4 import QtGui, QtCore\n",
    "\n",
    "\n",
    "class MainWindow(QtGui.QMainWindow):\n",
    "\n",
    "    def __init__(self):\n",
    "        super(MainWindow, self).__init__()\n",
    "\n",
    "        self.do_something() #sanity check\n",
    "        self.cw = ChildWidget(self)\n",
    "        self.setCentralWidget(self.cw)\n",
    "        self.show()\n",
    "\n",
    "    def do_something(self):\n",
    "\n",
    "        print 'doing something!'\n",
    "\n",
    "\n",
    "class ChildWidget(QtGui.QWidget):\n",
    "\n",
    "    def __init__(self, parent):\n",
    "        super(ChildWidget, self).__init__(parent)\n",
    "\n",
    "        self.button1 = QtGui.QPushButton()\n",
    "        self.button1.clicked.connect(self.do_something_else)\n",
    "\n",
    "        self.button2 = QtGui.QPushButton()\n",
    "        self.button2.clicked.connect(self.parent().do_something)\n",
    "\n",
    "        self.layout = QtGui.QVBoxLayout()\n",
    "        self.layout.addWidget(self.button1)\n",
    "        self.layout.addWidget(self.button2)\n",
    "        self.setLayout(self.layout)\n",
    "        self.show()\n",
    "\n",
    "    def do_something_else(self):\n",
    "\n",
    "        print 'doing something else!'\n",
    "\n",
    "\n",
    "def main():\n",
    "    app = QtGui.QApplication(sys.argv)\n",
    "    ex = MainWindow()\n",
    "    sys.exit(app.exec_())\n",
    "\n",
    "if __name__ == '__main__':\n",
    "    main()"
   ]
  },
  {
   "cell_type": "code",
   "execution_count": 1,
   "metadata": {
    "collapsed": false
   },
   "outputs": [
    {
     "ename": "SystemExit",
     "evalue": "0",
     "output_type": "error",
     "traceback": [
      "An exception has occurred, use %tb to see the full traceback.\n",
      "\u001b[1;31mSystemExit\u001b[0m\u001b[1;31m:\u001b[0m 0\n"
     ]
    },
    {
     "name": "stderr",
     "output_type": "stream",
     "text": [
      "To exit: use 'exit', 'quit', or Ctrl-D.\n"
     ]
    }
   ],
   "source": [
    "#2 types of combo boxes that are checkable\n",
    "\n",
    "from PyQt4 import QtGui, QtCore\n",
    "import sys, os\n",
    "\n",
    "class CheckableComboBox(QtGui.QComboBox):\n",
    "    def __init__(self):\n",
    "        super(CheckableComboBox, self).__init__()\n",
    "        self.view().pressed.connect(self.handleItemPressed)\n",
    "        self.setModel(QtGui.QStandardItemModel(self))\n",
    "\n",
    "    def handleItemPressed(self, index):\n",
    "        item = self.model().itemFromIndex(index)\n",
    "        if item.checkState() == QtCore.Qt.Checked:\n",
    "            item.setCheckState(QtCore.Qt.Unchecked)\n",
    "        else:\n",
    "            item.setCheckState(QtCore.Qt.Checked)\n",
    "\n",
    "class Dialog_01(QtGui.QMainWindow):\n",
    "    def __init__(self):\n",
    "        super(QtGui.QMainWindow,self).__init__()\n",
    "        myQWidget = QtGui.QWidget()\n",
    "        myBoxLayout = QtGui.QVBoxLayout()\n",
    "        myQWidget.setLayout(myBoxLayout)\n",
    "        self.setCentralWidget(myQWidget)\n",
    "        self.ComboBox = CheckableComboBox()\n",
    "        for i in range(3):\n",
    "            self.ComboBox.addItem(\"Combobox Item \" + str(i))\n",
    "            item = self.ComboBox.model().item(i, 0)\n",
    "            item.setCheckState(QtCore.Qt.Unchecked)\n",
    "        self.toolbutton = QtGui.QToolButton(self)\n",
    "        self.toolbutton.setText('Select Categories ')\n",
    "        self.toolmenu = QtGui.QMenu(self)\n",
    "        for i in range(3):\n",
    "            action = self.toolmenu.addAction(\"Category \" + str(i))\n",
    "            action.setCheckable(True)\n",
    "        self.toolbutton.setMenu(self.toolmenu)\n",
    "        self.toolbutton.setPopupMode(QtGui.QToolButton.InstantPopup)\n",
    "        myBoxLayout.addWidget(self.toolbutton)\n",
    "        myBoxLayout.addWidget(self.ComboBox)\n",
    "\n",
    "if __name__ == '__main__':\n",
    "    app = QtGui.QApplication(sys.argv)\n",
    "    dialog_1 = Dialog_01()\n",
    "    dialog_1.show()\n",
    "    dialog_1.resize(480,320)\n",
    "    sys.exit(app.exec_())"
   ]
  },
  {
   "cell_type": "code",
   "execution_count": 1,
   "metadata": {
    "collapsed": false
   },
   "outputs": [
    {
     "ename": "SystemExit",
     "evalue": "0",
     "output_type": "error",
     "traceback": [
      "An exception has occurred, use %tb to see the full traceback.\n",
      "\u001b[1;31mSystemExit\u001b[0m\u001b[1;31m:\u001b[0m 0\n"
     ]
    },
    {
     "name": "stderr",
     "output_type": "stream",
     "text": [
      "To exit: use 'exit', 'quit', or Ctrl-D.\n"
     ]
    }
   ],
   "source": [
    "#!/usr/bin/env python\n",
    "#-*- coding:utf-8 -*-\n",
    "\n",
    "from PyQt4 import QtGui, QtCore\n",
    "\n",
    "class MyWindow(QtGui.QWidget):\n",
    "    def __init__(self, parent=None):\n",
    "        super(MyWindow, self).__init__(parent)\n",
    "\n",
    "        self.items = dict(zip(\n",
    "            [   \"Parent {0}\".format(x)\n",
    "                for x in range(3)\n",
    "                ],\n",
    "            [   \n",
    "                [ \"Child {0} - {1}\".format(x, y)\n",
    "                    for y in range(3)\n",
    "                    ]\n",
    "                for x in range(3)\n",
    "                ]\n",
    "        ))\n",
    "\n",
    "        self.comboBoxChild = QtGui.QComboBox(self)\n",
    "\n",
    "        self.comboBoxParent = QtGui.QComboBox(self)\n",
    "        self.comboBoxParent.addItems(self.items.keys())\n",
    "        self.comboBoxParent.currentIndexChanged[str].connect(self.on_comboBoxParent_currentIndexChanged)\n",
    "        self.comboBoxParent.setCurrentIndex(1)\n",
    "\n",
    "        self.layoutVertical = QtGui.QVBoxLayout(self)\n",
    "        self.layoutVertical.addWidget(self.comboBoxParent)\n",
    "        self.layoutVertical.addWidget(self.comboBoxChild)\n",
    "\n",
    "    @QtCore.pyqtSlot(str)\n",
    "    def on_comboBoxParent_currentIndexChanged(self, index):\n",
    "        items = self.items[str(index)]\n",
    "\n",
    "        self.comboBoxChild.clear()\n",
    "        self.comboBoxChild.addItems(items)\n",
    "\n",
    "if __name__ == \"__main__\":\n",
    "    import sys\n",
    "\n",
    "    app = QtGui.QApplication(sys.argv)\n",
    "    app.setApplicationName('MyWindow')\n",
    "\n",
    "    main = MyWindow()\n",
    "    main.show()\n",
    "    main.resize(222, 111)\n",
    "\n",
    "    sys.exit(app.exec_())"
   ]
  },
  {
   "cell_type": "code",
   "execution_count": 1,
   "metadata": {
    "collapsed": false
   },
   "outputs": [
    {
     "ename": "SystemExit",
     "evalue": "0",
     "output_type": "error",
     "traceback": [
      "An exception has occurred, use %tb to see the full traceback.\n",
      "\u001b[1;31mSystemExit\u001b[0m\u001b[1;31m:\u001b[0m 0\n"
     ]
    },
    {
     "name": "stderr",
     "output_type": "stream",
     "text": [
      "To exit: use 'exit', 'quit', or Ctrl-D.\n"
     ]
    }
   ],
   "source": [
    "#Python PyQt Creating comboboxes depending on the number user selected on spinbox\n",
    "\n",
    "from PyQt4 import QtGui, QtCore\n",
    "\n",
    "class DynamicComboBoxes(QtGui.QWidget):\n",
    "    def __init__(self, parent=None):\n",
    "        super(DynamicComboBoxes, self).__init__(parent)\n",
    "        vbox = QtGui.QVBoxLayout(self)\n",
    "        spinbox = QtGui.QSpinBox(self)\n",
    "        spinbox.setRange(0,10)\n",
    "        spinbox.valueChanged.connect(self.onChangeValue)\n",
    "        vbox.addWidget(spinbox)\n",
    "        self.grid = QtGui.QGridLayout()\n",
    "        self.itemlist = []\n",
    "        vbox.addLayout(self.grid)\n",
    "        vbox.addStretch(1)\n",
    "\n",
    "\n",
    "    def onChangeValue(self, val):\n",
    "        for label, combobox in self.itemlist:\n",
    "            label.deleteLater()\n",
    "            combobox.deleteLater()\n",
    "        self.itemlist = []\n",
    "        for i in range(val):\n",
    "            label = QtGui.QLabel('This is Label {}'.format(i))\n",
    "            combobox = QtGui.QComboBox()\n",
    "            self.grid.addWidget(label, i, 0)\n",
    "            self.grid.addWidget(combobox, i, 1)\n",
    "            self.itemlist.append([label, combobox])\n",
    "            \n",
    "if __name__ == \"__main__\":\n",
    "    import sys\n",
    "\n",
    "    app = QtGui.QApplication(sys.argv)\n",
    "    app.setApplicationName('MyWindow')\n",
    "\n",
    "    main = DynamicComboBoxes()\n",
    "    main.show()\n",
    "    main.resize(222, 111)\n",
    "\n",
    "    sys.exit(app.exec_())"
   ]
  },
  {
   "cell_type": "code",
   "execution_count": 1,
   "metadata": {
    "collapsed": false
   },
   "outputs": [
    {
     "name": "stdout",
     "output_type": "stream",
     "text": [
      "\n",
      "['Key2', 'Key1']\n"
     ]
    },
    {
     "ename": "SystemExit",
     "evalue": "0",
     "output_type": "error",
     "traceback": [
      "An exception has occurred, use %tb to see the full traceback.\n",
      "\u001b[1;31mSystemExit\u001b[0m\u001b[1;31m:\u001b[0m 0\n"
     ]
    },
    {
     "name": "stderr",
     "output_type": "stream",
     "text": [
      "To exit: use 'exit', 'quit', or Ctrl-D.\n"
     ]
    }
   ],
   "source": [
    "#!/usr/bin/python\n",
    "# -*- coding: utf-8 -*-\n",
    " \n",
    "import sys\n",
    "from PyQt4 import QtGui, QtCore\n",
    " \n",
    "class CascadeMenu(QtGui.QWidget):\n",
    " \n",
    "    def __init__(self,dico):\n",
    "        super(CascadeMenu, self).__init__()\n",
    "        self.dico = dico\n",
    "        self.initUI(dico)\n",
    " \n",
    "    def initUI(self,dico):      \n",
    "        print dico.keys()\n",
    "        self.lbl = QtGui.QLabel(\"CytoM\", self)\n",
    "        self.fullpath = QtGui.QLabel(\"path\", self)\n",
    "        self.combo1 = QtGui.QComboBox(self)\n",
    "        self.combo1.addItems(dico.keys())\n",
    "        self.combo2 = QtGui.QComboBox(self)\n",
    "        self.populate_combo()\n",
    "        self.combo1.move(50, 50)\n",
    "        self.combo2.move(150, 50)\n",
    "        self.lbl.move(50, 150)\n",
    "        self.combo1.currentIndexChanged.connect(self.populate_combo)\n",
    "        self.combo2.activated.connect(self.onActivated)\n",
    "        self.setGeometry(300, 300, 300, 200)\n",
    "        self.setWindowTitle('Cascade Menus')\n",
    "        self.show()\n",
    " \n",
    "    def onActivated(self, val):\n",
    "        key = str(self.combo1.currentText())\n",
    "        subkey = str(self.combo2.currentText())  \n",
    "        self.lbl.setText(\"Key: {0}, SubKey: {1}, val: {2}\".format\n",
    "                            (key, subkey, self.dico[key][subkey]))\n",
    "        self.lbl.adjustSize() \n",
    " \n",
    "    def populate_combo(self, arg=None):\n",
    "        self.combo2.clear()\n",
    "        self.combo2.addItems(self.dico[str(self.combo1.currentText())].keys())\n",
    "        if arg is not None:\n",
    "             self.onActivated(self.combo1.currentText())\n",
    " \n",
    "def main():\n",
    "    print \n",
    "    app = QtGui.QApplication(sys.argv)\n",
    "    dic={\"Key1\":{\"SubKey1\":5,\"SubKey2\":7},\"Key2\":{\"SubKey3\":1,\"SubKey4\":2}}\n",
    "    ex = CascadeMenu(dic)\n",
    "    sys.exit(app.exec_())\n",
    " \n",
    "if __name__ == '__main__':\n",
    "    main()"
   ]
  },
  {
   "cell_type": "code",
   "execution_count": 1,
   "metadata": {
    "collapsed": false
   },
   "outputs": [
    {
     "ename": "SystemExit",
     "evalue": "0",
     "output_type": "error",
     "traceback": [
      "An exception has occurred, use %tb to see the full traceback.\n",
      "\u001b[1;31mSystemExit\u001b[0m\u001b[1;31m:\u001b[0m 0\n"
     ]
    },
    {
     "name": "stderr",
     "output_type": "stream",
     "text": [
      "To exit: use 'exit', 'quit', or Ctrl-D.\n"
     ]
    }
   ],
   "source": [
    "#!/usr/bin/python\n",
    "# -*- coding: utf-8 -*-\n",
    "# Python 2.7\n",
    " \n",
    "import sys\n",
    "from PyQt4 import QtCore, QtGui\n",
    " \n",
    "class Fenetre(QtGui.QWidget):\n",
    "    def __init__(self, parent=None):\n",
    "        super(Fenetre, self).__init__(parent)\n",
    " \n",
    "        self.combo1 = QtGui.QComboBox(self)\n",
    "        self.list1 = ['x', 'y', 'z']\n",
    "        self.combo1.addItems(QtCore.QStringList(self.list1))\n",
    "        # les 2 lignes suivantes donnent le même résultat parce que la transmission de l'index est le signal par défaut\n",
    "        #self.connect(self.combo1, QtCore.SIGNAL('currentIndexChanged(int)'), self.changeindexcombo1)\n",
    "        self.combo1.currentIndexChanged.connect(self.changeindexcombo1)\n",
    " \n",
    " \n",
    "        self.combo2 = QtGui.QComboBox(self)\n",
    "        self.list2 = [['x1', 'x2', 'x3'],['y1', 'y2', 'y3'],['z1', 'z2', 'z3']]\n",
    "        self.combo2.addItems(QtCore.QStringList(self.list2[0]))\n",
    " \n",
    "        # positionnement des widgets dans la fenêtre\n",
    "        posit = QtGui.QGridLayout()\n",
    "        posit.addWidget(self.combo1, 0, 0)\n",
    "        posit.addWidget(self.combo2, 0, 1)\n",
    "        self.setLayout(posit)\n",
    " \n",
    "    def changeindexcombo1(self, ind):\n",
    "        \"\"\"méthode exécutée en cas de changement d'affichage du combo1\n",
    "           ind est le nouvel index du texte affiché\n",
    "        \"\"\"\n",
    "        self.combo2.clear()\n",
    "        self.combo2.addItems(QtCore.QStringList(self.list2[ind]))\n",
    " \n",
    "if __name__ == \"__main__\":\n",
    "    app = QtGui.QApplication(sys.argv)\n",
    "    fen = Fenetre()\n",
    "    fen.show()\n",
    "    sys.exit(app.exec_())"
   ]
  },
  {
   "cell_type": "code",
   "execution_count": null,
   "metadata": {
    "collapsed": true
   },
   "outputs": [],
   "source": []
  }
 ],
 "metadata": {
  "kernelspec": {
   "display_name": "Python 2",
   "language": "python",
   "name": "python2"
  }
 },
 "nbformat": 4,
 "nbformat_minor": 0
}
